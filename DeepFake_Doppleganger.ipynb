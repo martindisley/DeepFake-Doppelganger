{
  "nbformat": 4,
  "nbformat_minor": 0,
  "metadata": {
    "colab": {
      "name": "Deep Fake Doppleganger",
      "provenance": [],
      "collapsed_sections": [
        "QpG2Hrm2I7e3",
        "4qk1FCeeaviZ",
        "M3h92xQ9KA-R"
      ],
      "toc_visible": true,
      "include_colab_link": true
    },
    "kernelspec": {
      "name": "python3",
      "display_name": "Python 3"
    },
    "accelerator": "GPU"
  },
  "cells": [
    {
      "cell_type": "markdown",
      "metadata": {
        "id": "view-in-github",
        "colab_type": "text"
      },
      "source": [
        "<a href=\"https://colab.research.google.com/github/martindisley/DeepFake-Doppelganger/blob/main/DeepFake_Doppleganger.ipynb\" target=\"_parent\"><img src=\"https://colab.research.google.com/assets/colab-badge.svg\" alt=\"Open In Colab\"/></a>"
      ]
    },
    {
      "cell_type": "markdown",
      "metadata": {
        "id": "lFTew57LuzRn"
      },
      "source": [
        "# **Deep Fake Dopplegänger**\n",
        "### *Generate an avatar that preserves your likeness but hides your biometric data from facial recognition algorithms using StyleGAN and Avatarify.*\n",
        "\n",
        "The first part of this notebook generates a StyleGAN dopplegänger. The second part allows you to offload the computation required to use it with Avatarify to this notebook while you run application locally.\n",
        "\n",
        "The [Avatarify](https://github.com/alievk/avatarify.git) installation requires some familiarity with the command line and Anaconda environment set up. You will also need an [ngrok](https://dashboard.ngrok.com/get-started/setup) account in order to communicate between the app, running locally, and the computation running in the cloud.\n",
        "\n",
        "Repos used:\n",
        "1.   https://github.com/PDillis/stylegan2-ada\n",
        "2.   https://github.com/ageitgey/face_recognition.git\n",
        "3.   https://github.com/alievk/avatarify.git\n",
        "\n",
        "To run the code in the notebook cells use the play button.\n",
        "\n",
        "Currently the notebook will **only work with png files**."
      ]
    },
    {
      "cell_type": "markdown",
      "metadata": {
        "id": "HaYuR5ILh32B"
      },
      "source": [
        "---"
      ]
    },
    {
      "cell_type": "markdown",
      "metadata": {
        "id": "pyMxwZsYl-bt"
      },
      "source": [
        "## Upload portrait"
      ]
    },
    {
      "cell_type": "code",
      "metadata": {
        "id": "-nSMIIFqL3iU"
      },
      "source": [
        "#@title Upload an image { display-mode: \"form\" }\n",
        "!mkdir /content/raw_images /content/aligned_images\n",
        "from google.colab import files\n",
        "%cd /content/raw_images \n",
        "files.upload()"
      ],
      "execution_count": null,
      "outputs": []
    },
    {
      "cell_type": "markdown",
      "metadata": {
        "id": "QpG2Hrm2I7e3"
      },
      "source": [
        "## Create Dopplegänger\n",
        "The code to create the doppelgänger is hidden in the cells below. Use the play button to run the code or expand the cells to read the code and run each individually.\n",
        "\n",
        "The code will take about 10 minutes to run.\n",
        "\n",
        "The following is going on under the hood:\n",
        "1.   The uploaded input image is cropped, aligned and resized and then projected into the FFHQ StyleGAN network to find the closest match it can produce. At each step of the projection the progress image is saved.\n",
        "2.   To find the nearest image that also fools a facial verification algorithm, the script traverses back through the steps of the projection, comparing the face in each step to the input image. The script stops when the facial verification algorithm returns a negative result.\n",
        "\n"
      ]
    },
    {
      "cell_type": "markdown",
      "metadata": {
        "id": "cHe4-uihad2B"
      },
      "source": [
        "Import libraries "
      ]
    },
    {
      "cell_type": "code",
      "metadata": {
        "id": "0CTM-KuP-E-_"
      },
      "source": [
        "%cd /content/\n",
        "!git clone https://github.com/PDillis/stylegan2-ada -q\n",
        "%cd stylegan2-ada/\n",
        "!mv /content/stylegan2-ada/ffhq_dataset/ /content/stylegan2-ada/utils/ffhq_dataset/"
      ],
      "execution_count": null,
      "outputs": []
    },
    {
      "cell_type": "code",
      "metadata": {
        "id": "5ptSivJsVumi"
      },
      "source": [
        "import os\n",
        "%cd /content/raw_images\n",
        "\n",
        "if os.path.exists(\"/content/raw_images/input.ipynb_checkpoints\"):\n",
        "  os.rmdir(\"/content/raw_images/input.ipynb_checkpoints\")\n",
        "\n",
        "for files in os.listdir('/content/raw_images'):\n",
        "  print(files)\n",
        "  ext = files.split('.')[-1]\n",
        "  os.rename('/content/raw_images/'+files, '/content/raw_images/input.{}'.format(ext))\n",
        "%cd ../stylegan2-ada/"
      ],
      "execution_count": null,
      "outputs": []
    },
    {
      "cell_type": "markdown",
      "metadata": {
        "id": "R-6HR1qyIy6M"
      },
      "source": [
        "Align and crop images\n"
      ]
    },
    {
      "cell_type": "code",
      "metadata": {
        "id": "hetq6bR9-U-f"
      },
      "source": [
        "!python /content/stylegan2-ada/utils/align_faces.py /content/raw_images /content/aligned_images"
      ],
      "execution_count": null,
      "outputs": []
    },
    {
      "cell_type": "markdown",
      "metadata": {
        "id": "w7BLnkEEJCCP"
      },
      "source": [
        "Generate doppelgänger "
      ]
    },
    {
      "cell_type": "code",
      "metadata": {
        "id": "zSc2Wn6R-ibU"
      },
      "source": [
        "%tensorflow_version 1.x\n",
        "!python /content/stylegan2-ada/projector.py --outdir=/content/ --target=/content/aligned_images/input_01.png --network=https://nvlabs-fi-cdn.nvidia.com/stylegan2-ada/pretrained/ffhq.pkl --save-every-step --num-steps=300"
      ],
      "execution_count": null,
      "outputs": []
    },
    {
      "cell_type": "markdown",
      "metadata": {
        "id": "IZynlxe4O2Ou"
      },
      "source": [
        "Compare faces for similarity"
      ]
    },
    {
      "cell_type": "code",
      "metadata": {
        "id": "XXrqYgvxCUG8"
      },
      "source": [
        "# Import prerequisite modules\n",
        "%cd /content/\n",
        "!git clone https://github.com/ageitgey/face_recognition.git -q\n",
        "%cd /content/face_recognition/\n",
        "!pip install git+https://github.com/ageitgey/face_recognition_models -q"
      ],
      "execution_count": null,
      "outputs": []
    },
    {
      "cell_type": "markdown",
      "metadata": {
        "id": "T0fTBT1n-Z9z"
      },
      "source": [
        "Compare faces"
      ]
    },
    {
      "cell_type": "code",
      "metadata": {
        "id": "oqmt4t2KCTKq"
      },
      "source": [
        "import face_recognition\n",
        "import shutil\n",
        "\n",
        "filenames = os.listdir('/content/steps')\n",
        "sorted_filenames = sorted(filenames, key=lambda x: int(x.split('_')[1].split('.')[0]))\n",
        "for steps in reversed(sorted_filenames):\n",
        "  if steps.split('.')[-1] == 'jpg':\n",
        "    known_image = face_recognition.load_image_file(\"/content/target.png\")\n",
        "    unknown_image = face_recognition.load_image_file(\"/content/steps/{}\".format(steps))\n",
        "    known_encoding = face_recognition.face_encodings(known_image)[0]\n",
        "    unknown_encoding = face_recognition.face_encodings(unknown_image)[0]\n",
        "    result = face_recognition.compare_faces([known_encoding], unknown_encoding)\n",
        "    print(steps, result[0])\n",
        "    if result == [False]:\n",
        "      shutil.copy2(\"/content/steps/{}\".format(steps), '/content/minimal_diff_doppelganger.png')\n",
        "      break"
      ],
      "execution_count": null,
      "outputs": []
    },
    {
      "cell_type": "markdown",
      "metadata": {
        "id": "dLvxogCd_bZu"
      },
      "source": [
        "## Download Doppelgänger\n",
        "Once you've downloaded your image add it to the *avatars* sub directory within Avatarify to use it with the application."
      ]
    },
    {
      "cell_type": "code",
      "metadata": {
        "id": "f5jQBfTk_Uq0",
        "cellView": "form"
      },
      "source": [
        "#@title Download image\n",
        "from google.colab import files\n",
        "files.download('/content/minimal_diff_doppelganger.png')"
      ],
      "execution_count": null,
      "outputs": []
    },
    {
      "cell_type": "markdown",
      "metadata": {
        "id": "S4ZFKKC2h0dl"
      },
      "source": [
        "---"
      ]
    },
    {
      "cell_type": "markdown",
      "metadata": {
        "id": "pEl-Q4OpsLb9"
      },
      "source": [
        "#Colab Rendering Server\n",
        "\n",
        "The cells below run an Avatarify rendering server, allowing you to run Avatarify on your computer **without GPU**:\n",
        "\n",
        "1. When the following cells are executed, a rendering server starts listening for incoming requests from the client (your local machine).\n",
        "1. Starting the client on your computer connects it to this notebook and starts sending requests\n",
        "1. This notebooks then receives the requests from your computer, renders avatar images and sends them back\n",
        "\n",
        "**Start the server**\n",
        "\n",
        "Run the cells below (Shift+Enter) sequentially and pay attention to the hints and instructions included in this notebook.\n",
        "\n",
        "At the end you will get a command for running the client on your computer.\n",
        "\n",
        "**Start the client**\n",
        "\n",
        "Make sure you have installed the latest version of Avatarify on your computer. Refer to the [README](https://github.com/alievk/avatarify#install) for the instructions.\n",
        "\n",
        "When it's ready execute this notebook and get the command for running the client on your computer.\n"
      ]
    },
    {
      "cell_type": "markdown",
      "metadata": {
        "id": "gyB7XIxL0XpD"
      },
      "source": [
        "### Get ngrok token\n",
        "Go to https://dashboard.ngrok.com/auth/your-authtoken (sign up if required), copy your authtoken and put it below."
      ]
    },
    {
      "cell_type": "code",
      "metadata": {
        "id": "YDtPpi77AkQ1"
      },
      "source": [
        "#@title Input ngrok token { display-mode: \"form\" }\n",
        "import ipywidgets as widgets\n",
        "authtoken_input = widgets.Text(value='Paste your authtoken here')\n",
        "display(authtoken_input)"
      ],
      "execution_count": null,
      "outputs": []
    },
    {
      "cell_type": "markdown",
      "metadata": {
        "id": "4qk1FCeeaviZ"
      },
      "source": [
        "## Run\n"
      ]
    },
    {
      "cell_type": "markdown",
      "metadata": {
        "id": "9fYm9X3X125H"
      },
      "source": [
        "Install Avatarify and ngrok"
      ]
    },
    {
      "cell_type": "code",
      "metadata": {
        "id": "LC1q-hdat-JP"
      },
      "source": [
        "%cd /content\n",
        "!git clone https://github.com/alievk/avatarify.git\n",
        "%cd avatarify\n",
        "!git clone https://github.com/alievk/first-order-model.git fomm\n",
        "!pip install face-alignment==1.0.0 msgpack_numpy pyyaml==5.1\n",
        "!scripts/download_data.sh\n",
        "# Download ngrok\n",
        "!scripts/get_ngrok.sh"
      ],
      "execution_count": null,
      "outputs": []
    },
    {
      "cell_type": "code",
      "metadata": {
        "id": "qxK_ZZjPz_Rr"
      },
      "source": [
        "authtoken = authtoken_input.value"
      ],
      "execution_count": null,
      "outputs": []
    },
    {
      "cell_type": "code",
      "metadata": {
        "id": "MA-h22jF6-ks"
      },
      "source": [
        "from subprocess import Popen, PIPE\n",
        "import shlex\n",
        "import json\n",
        "import time\n",
        "\n",
        "\n",
        "def run_with_pipe(command):\n",
        "  commands = list(map(shlex.split,command.split(\"|\")))\n",
        "  ps = Popen(commands[0], stdout=PIPE, stderr=PIPE)\n",
        "  for command in commands[1:]:\n",
        "    ps = Popen(command, stdin=ps.stdout, stdout=PIPE, stderr=PIPE)\n",
        "  return ps.stdout.readlines()\n",
        "\n",
        "\n",
        "def get_tunnel_adresses():\n",
        "  info = run_with_pipe(\"curl http://localhost:4040/api/tunnels\")\n",
        "  assert info\n",
        "\n",
        "  info = json.loads(info[0])\n",
        "  for tunnel in info['tunnels']:\n",
        "    url = tunnel['public_url']\n",
        "    port = url.split(':')[-1]\n",
        "    local_port = tunnel['config']['addr'].split(':')[-1]\n",
        "    print(f'{url} -> {local_port} [{tunnel[\"name\"]}]')\n",
        "    if tunnel['name'] == 'input':\n",
        "      in_addr = url\n",
        "    elif tunnel['name'] == 'output':\n",
        "      out_addr = url\n",
        "    else:\n",
        "      print(f'unknown tunnel: {tunnel[\"name\"]}')\n",
        "\n",
        "  return in_addr, out_addr"
      ],
      "execution_count": null,
      "outputs": []
    },
    {
      "cell_type": "code",
      "metadata": {
        "id": "RfHa02CBWoNN"
      },
      "source": [
        "# Input and output ports for communication\n",
        "local_in_port = 5557\n",
        "local_out_port = 5558"
      ],
      "execution_count": null,
      "outputs": []
    },
    {
      "cell_type": "code",
      "metadata": {
        "id": "8PnArK75mRqx"
      },
      "source": [
        "# (Re)Start the worker\n",
        "with open('/tmp/run.txt', 'w') as f:\n",
        "  ps = Popen(\n",
        "      shlex.split(f'./run.sh --is-worker --in-port {local_in_port} --out-port {local_out_port} --no-vcam --no-conda'),\n",
        "      stdout=f, stderr=f)\n",
        "  time.sleep(3)"
      ],
      "execution_count": null,
      "outputs": []
    },
    {
      "cell_type": "code",
      "metadata": {
        "id": "W0eY8gkBqUJG"
      },
      "source": [
        "!ps aux | grep 'python3 afy/cam_fomm.py' | grep -v grep | tee /tmp/ps_run\n",
        "!if [[ $(cat /tmp/ps_run | wc -l) == \"0\" ]]; then echo \"Worker failed to start\"; cat /tmp/run.txt; else echo \"Worker started\"; fi"
      ],
      "execution_count": null,
      "outputs": []
    },
    {
      "cell_type": "code",
      "metadata": {
        "id": "r5e9VR9NYckJ"
      },
      "source": [
        "# Set your region here in quotes\n",
        "region = \"eu\""
      ],
      "execution_count": null,
      "outputs": []
    },
    {
      "cell_type": "code",
      "metadata": {
        "id": "jZ5_PE_EHpCg"
      },
      "source": [
        "config =\\\n",
        "f\"\"\"\n",
        "authtoken: {authtoken}\n",
        "region: {region}\n",
        "console_ui: False\n",
        "tunnels:\n",
        "  input:\n",
        "    addr: {local_in_port}\n",
        "    proto: tcp    \n",
        "  output:\n",
        "    addr: {local_out_port}\n",
        "    proto: tcp\n",
        "\"\"\"\n",
        "\n",
        "with open('ngrok.conf', 'w') as f:\n",
        "  f.write(config)"
      ],
      "execution_count": null,
      "outputs": []
    },
    {
      "cell_type": "code",
      "metadata": {
        "id": "Z49OEhAdDI7Y"
      },
      "source": [
        "# (Re)Open tunnel\n",
        "ps = Popen('./scripts/open_tunnel_ngrok.sh', stdout=PIPE, stderr=PIPE)\n",
        "time.sleep(3)"
      ],
      "execution_count": null,
      "outputs": []
    },
    {
      "cell_type": "code",
      "metadata": {
        "id": "JAyPH2t2C64H"
      },
      "source": [
        "# Get tunnel addresses\n",
        "try:\n",
        "  in_addr, out_addr = get_tunnel_adresses()\n",
        "  print(\"Tunnel opened\")\n",
        "except Exception as e:\n",
        "  [print(l.decode(), end='') for l in ps.stdout.readlines()]\n",
        "  print(\"Something went wrong, reopen the tunnel\")"
      ],
      "execution_count": null,
      "outputs": []
    },
    {
      "cell_type": "markdown",
      "metadata": {
        "id": "ccZ24BT4Jdis"
      },
      "source": [
        "## Start the client\n",
        "When you run the cell below it will print a command. Run this command on your computer:\n",
        "\n",
        "1. Open a terminal (in Windows open `Anaconda Prompt`);\n",
        "2. Change working directory to the `avatarify` directory:</br>\n",
        "* Windows (change `C:\\path\\to\\avatarify` to your path)</br>\n",
        "`cd C:\\path\\to\\avatarify`</br></br>\n",
        "* Mac/Linux (change `/path/to/avatarify` to your path)</br>\n",
        "`cd /path/to/avatarify`\n",
        "3. Copy and paste to the command below and run it in your local terminal"
      ]
    },
    {
      "cell_type": "code",
      "metadata": {
        "id": "4gaqS0mZWF1V",
        "cellView": "form"
      },
      "source": [
        "#@title Get terminal command\n",
        "print('Copy-paste to the terminal the command below and run (press Enter)\\n')\n",
        "print('Mac:')\n",
        "print(f'./run_mac.sh --is-client --in-addr {in_addr} --out-addr {out_addr}')\n",
        "print('\\nWindows:')\n",
        "print(f'run_windows.bat --is-client --in-addr {in_addr} --out-addr {out_addr}')\n",
        "print('\\nLinux:')\n",
        "print(f'./run.sh --is-client --in-addr {in_addr} --out-addr {out_addr}')"
      ],
      "execution_count": null,
      "outputs": []
    },
    {
      "cell_type": "markdown",
      "metadata": {
        "id": "M3h92xQ9KA-R"
      },
      "source": [
        "#### Logs\n",
        "If something doesn't work as expected, please run the cells below and include the logs in your report."
      ]
    },
    {
      "cell_type": "code",
      "metadata": {
        "id": "0GeT7KxON0Ke",
        "cellView": "form"
      },
      "source": [
        "#@title\n",
        "!cat ./var/log/cam_fomm.log | head -100"
      ],
      "execution_count": null,
      "outputs": []
    },
    {
      "cell_type": "code",
      "metadata": {
        "id": "P1FQcdzwqdce",
        "cellView": "form"
      },
      "source": [
        "#@title\n",
        "!cat ./var/log/recv_worker.log | tail -100"
      ],
      "execution_count": null,
      "outputs": []
    },
    {
      "cell_type": "code",
      "metadata": {
        "id": "YThWBXCf_yzI",
        "cellView": "form"
      },
      "source": [
        "#@title\n",
        "!cat ./var/log/predictor_worker.log | tail -100"
      ],
      "execution_count": null,
      "outputs": []
    },
    {
      "cell_type": "code",
      "metadata": {
        "id": "zhJzygCP_6p3",
        "cellView": "form"
      },
      "source": [
        "#@title\n",
        "!cat ./var/log/send_worker.log | tail -100"
      ],
      "execution_count": null,
      "outputs": []
    }
  ]
}